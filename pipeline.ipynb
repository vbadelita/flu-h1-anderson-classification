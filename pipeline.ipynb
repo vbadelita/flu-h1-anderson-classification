{
 "cells": [
  {
   "cell_type": "markdown",
   "id": "abf889f7",
   "metadata": {},
   "source": [
    "# Step 1: Convert xlsx metadata to csv format."
   ]
  },
  {
   "cell_type": "code",
   "execution_count": null,
   "id": "e308bd3b",
   "metadata": {},
   "outputs": [],
   "source": [
    "%%bash\n",
    "in2csv raw_data/anderson_annotated_data.xlsx > data/metadata.csv"
   ]
  },
  {
   "cell_type": "markdown",
   "id": "7752f968",
   "metadata": {},
   "source": [
    "# Step 2: Convert Nexus tree to Newick tree\n",
    "\n",
    "I needed to also extract the accession numbers as the node names in the tree.\n",
    "The script `nexus_to_newick.py` just converts the data.\n",
    "The script `process_tree.py` parses the node names to split the accession numbers (the node name) and from the\n",
    "other metadata, which is added as comments. I also had to manually parse the string to remove some weird backslashes,\n",
    "single quotations, and square brackets added by biopython. The output tree has been tested on https://taxonium.org/\n"
   ]
  },
  {
   "cell_type": "code",
   "execution_count": null,
   "id": "846901e2",
   "metadata": {},
   "outputs": [],
   "source": [
    "%%bash\n",
    "python scripts/nexus_to_newick.py raw_data/anderson_nexus_tree.txt data/raw_tree.nwk\n",
    "python scripts/process_tree.py data/raw_tree.nwk data/tree.nwk"
   ]
  },
  {
   "cell_type": "markdown",
   "id": "a8f93a46",
   "metadata": {},
   "source": [
    "We now have a nice newick tree and it's associated metadata, and we could use any tree viewing tool to look at the data.\n",
    "The following steps are optional and only needed to retreive the sequence data."
   ]
  },
  {
   "cell_type": "markdown",
   "id": "3865c87f",
   "metadata": {},
   "source": [
    "# Step 3: Download sequence data\n",
    "\n",
    "The sequence data is stored at https://www.bv-brc.org/"
   ]
  },
  {
   "cell_type": "code",
   "execution_count": null,
   "id": "ae254415",
   "metadata": {},
   "outputs": [],
   "source": [
    "%%bash\n",
    "\n",
    "# Extract accessions\n",
    "csvcut -c Accession data/metadata.csv | tail -n +2 > data/accns.txt\n",
    "\n",
    "# Download accessions from bv-brc\n",
    "python scripts/download_bvbrc.py -i data/accns.txt -o data/downloads/\n",
    "\n",
    "# Extract fasta from jsonl download\n",
    "python scripts/extract_fasta.py -i data/downloads/raw_data.jsonl -o data/sequences.fasta"
   ]
  },
  {
   "cell_type": "markdown",
   "id": "3b8468e4",
   "metadata": {},
   "source": [
    "# Step 4: Align sequence data\n",
    "\n",
    "Used A/New York City/2/1918(H1N1) from genbank as the alignment reference (accession OR133599)."
   ]
  },
  {
   "cell_type": "code",
   "execution_count": null,
   "id": "3b9e4ff3",
   "metadata": {},
   "outputs": [],
   "source": [
    "%%bash\n",
    "\n",
    "mafft --thread 8 --auto --keeplength --addfragments data/sequences.fasta data/reference.fasta > data/sequences.aligned.fasta"
   ]
  }
 ],
 "metadata": {
  "kernelspec": {
   "display_name": "default",
   "language": "python",
   "name": "python3"
  },
  "language_info": {
   "codemirror_mode": {
    "name": "ipython",
    "version": 3
   },
   "file_extension": ".py",
   "mimetype": "text/x-python",
   "name": "python",
   "nbconvert_exporter": "python",
   "pygments_lexer": "ipython3",
   "version": "3.13.9"
  }
 },
 "nbformat": 4,
 "nbformat_minor": 5
}
